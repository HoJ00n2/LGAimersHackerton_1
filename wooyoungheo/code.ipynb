{
 "cells": [
  {
   "cell_type": "markdown",
   "id": "017e9265",
   "metadata": {},
   "source": [
    "# 제품 이상여부 판별 프로젝트\n"
   ]
  },
  {
   "cell_type": "markdown",
   "id": "acdab431",
   "metadata": {},
   "source": [
    "## 1. 데이터 불러오기\n"
   ]
  },
  {
   "cell_type": "markdown",
   "id": "2b8341e8",
   "metadata": {},
   "source": [
    "### 필수 라이브러리\n"
   ]
  },
  {
   "cell_type": "code",
   "execution_count": 1,
   "id": "a315cc58",
   "metadata": {},
   "outputs": [],
   "source": [
    "import os\n",
    "from pprint import pprint\n",
    "\n",
    "import numpy as np\n",
    "import pandas as pd\n",
    "from sklearn.ensemble import RandomForestClassifier\n",
    "from sklearn.metrics import (\n",
    "    accuracy_score,\n",
    "    classification_report,\n",
    "    confusion_matrix,\n",
    "    f1_score,\n",
    "    precision_score,\n",
    "    recall_score,\n",
    ")\n",
    "from sklearn.model_selection import train_test_split\n",
    "from tqdm import tqdm"
   ]
  },
  {
   "cell_type": "markdown",
   "id": "4d054e30",
   "metadata": {},
   "source": [
    "### 데이터 읽어오기\n"
   ]
  },
  {
   "cell_type": "code",
   "execution_count": 2,
   "id": "fc0b4d80",
   "metadata": {},
   "outputs": [
    {
     "data": {
      "text/html": [
       "<div>\n",
       "<style scoped>\n",
       "    .dataframe tbody tr th:only-of-type {\n",
       "        vertical-align: middle;\n",
       "    }\n",
       "\n",
       "    .dataframe tbody tr th {\n",
       "        vertical-align: top;\n",
       "    }\n",
       "\n",
       "    .dataframe thead th {\n",
       "        text-align: right;\n",
       "    }\n",
       "</style>\n",
       "<table border=\"1\" class=\"dataframe\">\n",
       "  <thead>\n",
       "    <tr style=\"text-align: right;\">\n",
       "      <th></th>\n",
       "      <th>Wip Line_Dam</th>\n",
       "      <th>Process Desc._Dam</th>\n",
       "      <th>Equipment_Dam</th>\n",
       "      <th>Model.Suffix_Dam</th>\n",
       "      <th>Workorder_Dam</th>\n",
       "      <th>Insp. Seq No._Dam</th>\n",
       "      <th>Insp Judge Code_Dam</th>\n",
       "      <th>CURE END POSITION X Collect Result_Dam</th>\n",
       "      <th>CURE END POSITION X Unit Time_Dam</th>\n",
       "      <th>CURE END POSITION X Judge Value_Dam</th>\n",
       "      <th>...</th>\n",
       "      <th>Production Qty Collect Result_Fill2</th>\n",
       "      <th>Production Qty Unit Time_Fill2</th>\n",
       "      <th>Production Qty Judge Value_Fill2</th>\n",
       "      <th>Receip No Collect Result_Fill2</th>\n",
       "      <th>Receip No Unit Time_Fill2</th>\n",
       "      <th>Receip No Judge Value_Fill2</th>\n",
       "      <th>WorkMode Collect Result_Fill2</th>\n",
       "      <th>WorkMode Unit Time_Fill2</th>\n",
       "      <th>WorkMode Judge Value_Fill2</th>\n",
       "      <th>target</th>\n",
       "    </tr>\n",
       "  </thead>\n",
       "  <tbody>\n",
       "    <tr>\n",
       "      <th>0</th>\n",
       "      <td>IVI-OB6</td>\n",
       "      <td>Dam Dispenser</td>\n",
       "      <td>Dam dispenser #1</td>\n",
       "      <td>AJX75334505</td>\n",
       "      <td>4F1XA938-1</td>\n",
       "      <td>1</td>\n",
       "      <td>OK</td>\n",
       "      <td>240.0</td>\n",
       "      <td>NaN</td>\n",
       "      <td>NaN</td>\n",
       "      <td>...</td>\n",
       "      <td>7</td>\n",
       "      <td>NaN</td>\n",
       "      <td>NaN</td>\n",
       "      <td>127</td>\n",
       "      <td>NaN</td>\n",
       "      <td>NaN</td>\n",
       "      <td>1</td>\n",
       "      <td>NaN</td>\n",
       "      <td>NaN</td>\n",
       "      <td>Normal</td>\n",
       "    </tr>\n",
       "    <tr>\n",
       "      <th>1</th>\n",
       "      <td>IVI-OB6</td>\n",
       "      <td>Dam Dispenser</td>\n",
       "      <td>Dam dispenser #1</td>\n",
       "      <td>AJX75334505</td>\n",
       "      <td>3KPM0016-2</td>\n",
       "      <td>1</td>\n",
       "      <td>OK</td>\n",
       "      <td>240.0</td>\n",
       "      <td>NaN</td>\n",
       "      <td>NaN</td>\n",
       "      <td>...</td>\n",
       "      <td>185</td>\n",
       "      <td>NaN</td>\n",
       "      <td>NaN</td>\n",
       "      <td>1</td>\n",
       "      <td>NaN</td>\n",
       "      <td>NaN</td>\n",
       "      <td>0</td>\n",
       "      <td>NaN</td>\n",
       "      <td>NaN</td>\n",
       "      <td>Normal</td>\n",
       "    </tr>\n",
       "    <tr>\n",
       "      <th>2</th>\n",
       "      <td>IVI-OB6</td>\n",
       "      <td>Dam Dispenser</td>\n",
       "      <td>Dam dispenser #2</td>\n",
       "      <td>AJX75334501</td>\n",
       "      <td>4E1X9167-1</td>\n",
       "      <td>1</td>\n",
       "      <td>OK</td>\n",
       "      <td>1000.0</td>\n",
       "      <td>NaN</td>\n",
       "      <td>NaN</td>\n",
       "      <td>...</td>\n",
       "      <td>10</td>\n",
       "      <td>NaN</td>\n",
       "      <td>NaN</td>\n",
       "      <td>73</td>\n",
       "      <td>NaN</td>\n",
       "      <td>NaN</td>\n",
       "      <td>1</td>\n",
       "      <td>NaN</td>\n",
       "      <td>NaN</td>\n",
       "      <td>Normal</td>\n",
       "    </tr>\n",
       "    <tr>\n",
       "      <th>3</th>\n",
       "      <td>IVI-OB6</td>\n",
       "      <td>Dam Dispenser</td>\n",
       "      <td>Dam dispenser #2</td>\n",
       "      <td>AJX75334501</td>\n",
       "      <td>3K1X0057-1</td>\n",
       "      <td>1</td>\n",
       "      <td>OK</td>\n",
       "      <td>1000.0</td>\n",
       "      <td>NaN</td>\n",
       "      <td>NaN</td>\n",
       "      <td>...</td>\n",
       "      <td>268</td>\n",
       "      <td>NaN</td>\n",
       "      <td>NaN</td>\n",
       "      <td>1</td>\n",
       "      <td>NaN</td>\n",
       "      <td>NaN</td>\n",
       "      <td>0</td>\n",
       "      <td>NaN</td>\n",
       "      <td>NaN</td>\n",
       "      <td>Normal</td>\n",
       "    </tr>\n",
       "    <tr>\n",
       "      <th>4</th>\n",
       "      <td>IVI-OB6</td>\n",
       "      <td>Dam Dispenser</td>\n",
       "      <td>Dam dispenser #1</td>\n",
       "      <td>AJX75334501</td>\n",
       "      <td>3HPM0007-1</td>\n",
       "      <td>1</td>\n",
       "      <td>OK</td>\n",
       "      <td>240.0</td>\n",
       "      <td>NaN</td>\n",
       "      <td>NaN</td>\n",
       "      <td>...</td>\n",
       "      <td>121</td>\n",
       "      <td>NaN</td>\n",
       "      <td>NaN</td>\n",
       "      <td>1</td>\n",
       "      <td>NaN</td>\n",
       "      <td>NaN</td>\n",
       "      <td>0</td>\n",
       "      <td>NaN</td>\n",
       "      <td>NaN</td>\n",
       "      <td>Normal</td>\n",
       "    </tr>\n",
       "    <tr>\n",
       "      <th>...</th>\n",
       "      <td>...</td>\n",
       "      <td>...</td>\n",
       "      <td>...</td>\n",
       "      <td>...</td>\n",
       "      <td>...</td>\n",
       "      <td>...</td>\n",
       "      <td>...</td>\n",
       "      <td>...</td>\n",
       "      <td>...</td>\n",
       "      <td>...</td>\n",
       "      <td>...</td>\n",
       "      <td>...</td>\n",
       "      <td>...</td>\n",
       "      <td>...</td>\n",
       "      <td>...</td>\n",
       "      <td>...</td>\n",
       "      <td>...</td>\n",
       "      <td>...</td>\n",
       "      <td>...</td>\n",
       "      <td>...</td>\n",
       "      <td>...</td>\n",
       "    </tr>\n",
       "    <tr>\n",
       "      <th>40501</th>\n",
       "      <td>IVI-OB6</td>\n",
       "      <td>Dam Dispenser</td>\n",
       "      <td>Dam dispenser #1</td>\n",
       "      <td>AJX75334501</td>\n",
       "      <td>3J1XF434-2</td>\n",
       "      <td>1</td>\n",
       "      <td>OK</td>\n",
       "      <td>240.0</td>\n",
       "      <td>NaN</td>\n",
       "      <td>NaN</td>\n",
       "      <td>...</td>\n",
       "      <td>318</td>\n",
       "      <td>NaN</td>\n",
       "      <td>NaN</td>\n",
       "      <td>1</td>\n",
       "      <td>NaN</td>\n",
       "      <td>NaN</td>\n",
       "      <td>0</td>\n",
       "      <td>NaN</td>\n",
       "      <td>NaN</td>\n",
       "      <td>Normal</td>\n",
       "    </tr>\n",
       "    <tr>\n",
       "      <th>40502</th>\n",
       "      <td>IVI-OB6</td>\n",
       "      <td>Dam Dispenser</td>\n",
       "      <td>Dam dispenser #2</td>\n",
       "      <td>AJX75334501</td>\n",
       "      <td>4E1XC796-1</td>\n",
       "      <td>1</td>\n",
       "      <td>OK</td>\n",
       "      <td>1000.0</td>\n",
       "      <td>NaN</td>\n",
       "      <td>NaN</td>\n",
       "      <td>...</td>\n",
       "      <td>14</td>\n",
       "      <td>NaN</td>\n",
       "      <td>NaN</td>\n",
       "      <td>197</td>\n",
       "      <td>NaN</td>\n",
       "      <td>NaN</td>\n",
       "      <td>1</td>\n",
       "      <td>NaN</td>\n",
       "      <td>NaN</td>\n",
       "      <td>Normal</td>\n",
       "    </tr>\n",
       "    <tr>\n",
       "      <th>40503</th>\n",
       "      <td>IVI-OB6</td>\n",
       "      <td>Dam Dispenser</td>\n",
       "      <td>Dam dispenser #1</td>\n",
       "      <td>AJX75334501</td>\n",
       "      <td>4C1XD438-1</td>\n",
       "      <td>1</td>\n",
       "      <td>OK</td>\n",
       "      <td>240.0</td>\n",
       "      <td>NaN</td>\n",
       "      <td>NaN</td>\n",
       "      <td>...</td>\n",
       "      <td>1</td>\n",
       "      <td>NaN</td>\n",
       "      <td>NaN</td>\n",
       "      <td>27</td>\n",
       "      <td>NaN</td>\n",
       "      <td>NaN</td>\n",
       "      <td>1</td>\n",
       "      <td>NaN</td>\n",
       "      <td>NaN</td>\n",
       "      <td>Normal</td>\n",
       "    </tr>\n",
       "    <tr>\n",
       "      <th>40504</th>\n",
       "      <td>IVI-OB6</td>\n",
       "      <td>Dam Dispenser</td>\n",
       "      <td>Dam dispenser #2</td>\n",
       "      <td>AJX75334501</td>\n",
       "      <td>3I1XA258-1</td>\n",
       "      <td>1</td>\n",
       "      <td>OK</td>\n",
       "      <td>1000.0</td>\n",
       "      <td>NaN</td>\n",
       "      <td>NaN</td>\n",
       "      <td>...</td>\n",
       "      <td>117</td>\n",
       "      <td>NaN</td>\n",
       "      <td>NaN</td>\n",
       "      <td>1</td>\n",
       "      <td>NaN</td>\n",
       "      <td>NaN</td>\n",
       "      <td>0</td>\n",
       "      <td>NaN</td>\n",
       "      <td>NaN</td>\n",
       "      <td>Normal</td>\n",
       "    </tr>\n",
       "    <tr>\n",
       "      <th>40505</th>\n",
       "      <td>IVI-OB6</td>\n",
       "      <td>Dam Dispenser</td>\n",
       "      <td>Dam dispenser #1</td>\n",
       "      <td>AJX75334501</td>\n",
       "      <td>3G1XA501-1</td>\n",
       "      <td>1</td>\n",
       "      <td>OK</td>\n",
       "      <td>240.0</td>\n",
       "      <td>NaN</td>\n",
       "      <td>NaN</td>\n",
       "      <td>...</td>\n",
       "      <td>320</td>\n",
       "      <td>NaN</td>\n",
       "      <td>NaN</td>\n",
       "      <td>1</td>\n",
       "      <td>NaN</td>\n",
       "      <td>NaN</td>\n",
       "      <td>0</td>\n",
       "      <td>NaN</td>\n",
       "      <td>NaN</td>\n",
       "      <td>AbNormal</td>\n",
       "    </tr>\n",
       "  </tbody>\n",
       "</table>\n",
       "<p>40506 rows × 464 columns</p>\n",
       "</div>"
      ],
      "text/plain": [
       "      Wip Line_Dam Process Desc._Dam     Equipment_Dam Model.Suffix_Dam  \\\n",
       "0          IVI-OB6     Dam Dispenser  Dam dispenser #1      AJX75334505   \n",
       "1          IVI-OB6     Dam Dispenser  Dam dispenser #1      AJX75334505   \n",
       "2          IVI-OB6     Dam Dispenser  Dam dispenser #2      AJX75334501   \n",
       "3          IVI-OB6     Dam Dispenser  Dam dispenser #2      AJX75334501   \n",
       "4          IVI-OB6     Dam Dispenser  Dam dispenser #1      AJX75334501   \n",
       "...            ...               ...               ...              ...   \n",
       "40501      IVI-OB6     Dam Dispenser  Dam dispenser #1      AJX75334501   \n",
       "40502      IVI-OB6     Dam Dispenser  Dam dispenser #2      AJX75334501   \n",
       "40503      IVI-OB6     Dam Dispenser  Dam dispenser #1      AJX75334501   \n",
       "40504      IVI-OB6     Dam Dispenser  Dam dispenser #2      AJX75334501   \n",
       "40505      IVI-OB6     Dam Dispenser  Dam dispenser #1      AJX75334501   \n",
       "\n",
       "      Workorder_Dam  Insp. Seq No._Dam Insp Judge Code_Dam  \\\n",
       "0        4F1XA938-1                  1                  OK   \n",
       "1        3KPM0016-2                  1                  OK   \n",
       "2        4E1X9167-1                  1                  OK   \n",
       "3        3K1X0057-1                  1                  OK   \n",
       "4        3HPM0007-1                  1                  OK   \n",
       "...             ...                ...                 ...   \n",
       "40501    3J1XF434-2                  1                  OK   \n",
       "40502    4E1XC796-1                  1                  OK   \n",
       "40503    4C1XD438-1                  1                  OK   \n",
       "40504    3I1XA258-1                  1                  OK   \n",
       "40505    3G1XA501-1                  1                  OK   \n",
       "\n",
       "       CURE END POSITION X Collect Result_Dam  \\\n",
       "0                                       240.0   \n",
       "1                                       240.0   \n",
       "2                                      1000.0   \n",
       "3                                      1000.0   \n",
       "4                                       240.0   \n",
       "...                                       ...   \n",
       "40501                                   240.0   \n",
       "40502                                  1000.0   \n",
       "40503                                   240.0   \n",
       "40504                                  1000.0   \n",
       "40505                                   240.0   \n",
       "\n",
       "       CURE END POSITION X Unit Time_Dam  CURE END POSITION X Judge Value_Dam  \\\n",
       "0                                    NaN                                  NaN   \n",
       "1                                    NaN                                  NaN   \n",
       "2                                    NaN                                  NaN   \n",
       "3                                    NaN                                  NaN   \n",
       "4                                    NaN                                  NaN   \n",
       "...                                  ...                                  ...   \n",
       "40501                                NaN                                  NaN   \n",
       "40502                                NaN                                  NaN   \n",
       "40503                                NaN                                  NaN   \n",
       "40504                                NaN                                  NaN   \n",
       "40505                                NaN                                  NaN   \n",
       "\n",
       "       ...  Production Qty Collect Result_Fill2  \\\n",
       "0      ...                                    7   \n",
       "1      ...                                  185   \n",
       "2      ...                                   10   \n",
       "3      ...                                  268   \n",
       "4      ...                                  121   \n",
       "...    ...                                  ...   \n",
       "40501  ...                                  318   \n",
       "40502  ...                                   14   \n",
       "40503  ...                                    1   \n",
       "40504  ...                                  117   \n",
       "40505  ...                                  320   \n",
       "\n",
       "       Production Qty Unit Time_Fill2  Production Qty Judge Value_Fill2  \\\n",
       "0                                 NaN                               NaN   \n",
       "1                                 NaN                               NaN   \n",
       "2                                 NaN                               NaN   \n",
       "3                                 NaN                               NaN   \n",
       "4                                 NaN                               NaN   \n",
       "...                               ...                               ...   \n",
       "40501                             NaN                               NaN   \n",
       "40502                             NaN                               NaN   \n",
       "40503                             NaN                               NaN   \n",
       "40504                             NaN                               NaN   \n",
       "40505                             NaN                               NaN   \n",
       "\n",
       "       Receip No Collect Result_Fill2  Receip No Unit Time_Fill2  \\\n",
       "0                                 127                        NaN   \n",
       "1                                   1                        NaN   \n",
       "2                                  73                        NaN   \n",
       "3                                   1                        NaN   \n",
       "4                                   1                        NaN   \n",
       "...                               ...                        ...   \n",
       "40501                               1                        NaN   \n",
       "40502                             197                        NaN   \n",
       "40503                              27                        NaN   \n",
       "40504                               1                        NaN   \n",
       "40505                               1                        NaN   \n",
       "\n",
       "       Receip No Judge Value_Fill2  WorkMode Collect Result_Fill2  \\\n",
       "0                              NaN                              1   \n",
       "1                              NaN                              0   \n",
       "2                              NaN                              1   \n",
       "3                              NaN                              0   \n",
       "4                              NaN                              0   \n",
       "...                            ...                            ...   \n",
       "40501                          NaN                              0   \n",
       "40502                          NaN                              1   \n",
       "40503                          NaN                              1   \n",
       "40504                          NaN                              0   \n",
       "40505                          NaN                              0   \n",
       "\n",
       "       WorkMode Unit Time_Fill2  WorkMode Judge Value_Fill2    target  \n",
       "0                           NaN                         NaN    Normal  \n",
       "1                           NaN                         NaN    Normal  \n",
       "2                           NaN                         NaN    Normal  \n",
       "3                           NaN                         NaN    Normal  \n",
       "4                           NaN                         NaN    Normal  \n",
       "...                         ...                         ...       ...  \n",
       "40501                       NaN                         NaN    Normal  \n",
       "40502                       NaN                         NaN    Normal  \n",
       "40503                       NaN                         NaN    Normal  \n",
       "40504                       NaN                         NaN    Normal  \n",
       "40505                       NaN                         NaN  AbNormal  \n",
       "\n",
       "[40506 rows x 464 columns]"
      ]
     },
     "execution_count": 2,
     "metadata": {},
     "output_type": "execute_result"
    }
   ],
   "source": [
    "ROOT_DIR = \"data\"\n",
    "RANDOM_STATE = 110\n",
    "\n",
    "# Load data\n",
    "train_data = pd.read_csv(os.path.join(ROOT_DIR, \"train.csv\"))\n",
    "train_data"
   ]
  },
  {
   "cell_type": "code",
   "execution_count": 3,
   "id": "79f0382a",
   "metadata": {},
   "outputs": [
    {
     "data": {
      "text/plain": [
       "count      40506\n",
       "unique         2\n",
       "top       Normal\n",
       "freq       38156\n",
       "Name: target, dtype: object"
      ]
     },
     "execution_count": 3,
     "metadata": {},
     "output_type": "execute_result"
    }
   ],
   "source": [
    "train_data['target'].describe()\n",
    "# 해석\n",
    "# describe 메서드를 이용해 target열 통계 보기\n",
    "# target열에 존재하는 총 데이터 수는 40506개\n",
    "# target열의 unique 값의 수는 두 가지다 (이진 분류 가능)\n",
    "# target열에서 Normal이라는 값이 제일 많이 등장함\n",
    "# Normal 이라는 값이 38156번 나타남\n",
    "# target의 type은 object(문자열, 범주형 데이터)다."
   ]
  },
  {
   "cell_type": "code",
   "execution_count": 4,
   "id": "0cb75458",
   "metadata": {},
   "outputs": [
    {
     "name": "stdout",
     "output_type": "stream",
     "text": [
      "<class 'pandas.core.frame.DataFrame'>\n",
      "RangeIndex: 40506 entries, 0 to 40505\n",
      "Columns: 464 entries, Wip Line_Dam to target\n",
      "dtypes: float64(350), int64(77), object(37)\n",
      "memory usage: 143.4+ MB\n"
     ]
    }
   ],
   "source": [
    "train_data.info()"
   ]
  },
  {
   "cell_type": "code",
   "execution_count": 5,
   "id": "aa3beb14",
   "metadata": {},
   "outputs": [
    {
     "data": {
      "text/plain": [
       "Wip Line_Dam                         0\n",
       "Process Desc._Dam                    0\n",
       "Equipment_Dam                        0\n",
       "Model.Suffix_Dam                     0\n",
       "Workorder_Dam                        0\n",
       "                                 ...  \n",
       "Receip No Judge Value_Fill2      40506\n",
       "WorkMode Collect Result_Fill2        0\n",
       "WorkMode Unit Time_Fill2         40506\n",
       "WorkMode Judge Value_Fill2       40506\n",
       "target                               0\n",
       "Length: 464, dtype: int64"
      ]
     },
     "execution_count": 5,
     "metadata": {},
     "output_type": "execute_result"
    }
   ],
   "source": [
    "# 특정 값 (OK) null 로 대체\n",
    "train_data = train_data.replace('OK', np.nan)\n",
    "\n",
    "# Dataset에서 결측치 확인\n",
    "missing_values = train_data.isnull().sum()\n",
    "\n",
    "missing_values\n",
    "\n",
    "#해석\n",
    "# train_data의 모든 'OK'라는 특정 값을 'NaN'으로 대체\n",
    "# 여기서 np.nan은 Numpy 라이브러리에서 제공하는 결측치 확인용\n",
    "# replace 메서드는 특정 값을 찾아 다른 값으로 대체 해준다 \n",
    "# 지금은 'OK'로 대체하고 있음\n",
    "\n",
    "# isnull() 메서드는 'NaN'값을 'True'로 아닌건 'Flase'로 해주고\n",
    "# .sum() 메서드를 통해 결측치 ('True')값의 개수를 합해서 계산함\n",
    "# 결과를 missing_values에 결측치 개수가 저장된다\n",
    "\n",
    "# 결과\n",
    "# 결측치가 없는 애들은 0 으로 나왔고\n",
    "# 결측치가 있는 애들은 40506 으로 나왔다\n",
    "# 'OK'가 엄청 많고 이게 전부 'NaN'으로 대체 되었다\n",
    "# 결론은 'target'열에는 결측치가 없고\n",
    "# train_data의데이터프레임 열에는 464개의 열이있고\n",
    "# 결측치 개수를 나타대는 타입은 int64다"
   ]
  },
  {
   "cell_type": "code",
   "execution_count": 6,
   "id": "2b31abe7",
   "metadata": {},
   "outputs": [
    {
     "data": {
      "text/plain": [
       "3rd Pressure Judge Value_AutoClave           100.0\n",
       "THICKNESS 3 Unit Time_Dam                    100.0\n",
       "Dispense Volume(Stage1) Unit Time_Fill2      100.0\n",
       "Dispense Volume(Stage1) Judge Value_Fill2    100.0\n",
       "Dispense Volume(Stage2) Unit Time_Fill2      100.0\n",
       "                                             ...  \n",
       "Chamber Temp. Unit Time_AutoClave              0.0\n",
       "Wip Line_Fill1                                 0.0\n",
       "Process Desc._Fill1                            0.0\n",
       "Equipment_Fill1                                0.0\n",
       "target                                         0.0\n",
       "Length: 464, dtype: float64"
      ]
     },
     "execution_count": 6,
     "metadata": {},
     "output_type": "execute_result"
    }
   ],
   "source": [
    "# 결측치 비율 계산\n",
    "total_entries = len(train_data)\n",
    "missing_percentage = (train_data.isnull().sum() / total_entries) *100\n",
    "\n",
    "# 결측치 비율 확인\n",
    "missing_percentage.sort_values(ascending=False)\n",
    "\n",
    "# 해석\n",
    "# 데이터프레임의 전체 row(행)수를 계산해서 'total_entries'라는 변수에 저장\n",
    "# 열에서 결측치의 개수를 계산하고 이 개수를 'total_entries'로 나누고\n",
    "# 거기에 100을 곱하면 결측치 비율을 백분율(%)로 변환해준다\n",
    "# 이 결과를 다시 'missing_percentage'변수에 저장 해준다 \n",
    "# 'ascending=False'로 내림차순으로 정렬한다"
   ]
  },
  {
   "cell_type": "code",
   "execution_count": 7,
   "id": "738ba542",
   "metadata": {},
   "outputs": [],
   "source": [
    "# 결과\n",
    "# 결측치가 100%인 애들은 전혀 유효한 데이터를 가지고 있지 않다고 보면 된다\n",
    "# 결측치가 0%인 애들은 반대로 전부 유효한 데이터를 가지고 있다고 보면 된다\n",
    "# 마찬가지로 464개의 열이 있고 데이터 타입은 float64니까 소수점 형식으로 되어있다고 보면 된다"
   ]
  },
  {
   "cell_type": "code",
   "execution_count": 8,
   "id": "75be20e5",
   "metadata": {},
   "outputs": [
    {
     "name": "stdout",
     "output_type": "stream",
     "text": [
      "삭제된 열의 개수: 290\n",
      "남은 열의 개수: 174\n"
     ]
    }
   ],
   "source": [
    "# 100% 결측치가 있는 열들을 삭제\n",
    "columns_to_drop = missing_percentage[missing_percentage == 100].index\n",
    "train_data_missing_value_drop = train_data.drop(columns=columns_to_drop)\n",
    "\n",
    "# 삭제된 열의 개수와 남은 열의 개수를 출력\n",
    "print(f\"삭제된 열의 개수: {len(columns_to_drop)}\")\n",
    "print(f\"남은 열의 개수: {train_data_missing_value_drop.shape[1]}\")"
   ]
  },
  {
   "cell_type": "code",
   "execution_count": 9,
   "id": "c85781ee",
   "metadata": {},
   "outputs": [],
   "source": [
    "# 해석\n",
    "# 'colums_to_drop'에 100%의 결측치를 가진 열들을 저장\n",
    "# 'drop'을 사용하여 열을 삭제하고\n",
    "# 결과를 'train_data_missing_value_drop'에 저장\n",
    "# 삭제된 열의 개수는 290개\n",
    "# 남은 열의 개수는 174개를 확인 할 수 있다."
   ]
  },
  {
   "cell_type": "code",
   "execution_count": 10,
   "id": "490eabad",
   "metadata": {},
   "outputs": [
    {
     "name": "stdout",
     "output_type": "stream",
     "text": [
      "Index(['Insp Judge Code_Dam', 'CURE END POSITION X Unit Time_Dam',\n",
      "       'CURE END POSITION X Judge Value_Dam',\n",
      "       'CURE END POSITION Z Unit Time_Dam',\n",
      "       'CURE END POSITION Z Judge Value_Dam',\n",
      "       'CURE END POSITION Θ Unit Time_Dam',\n",
      "       'CURE END POSITION Θ Judge Value_Dam', 'CURE SPEED Unit Time_Dam',\n",
      "       'CURE SPEED Judge Value_Dam', 'CURE STANDBY POSITION X Unit Time_Dam',\n",
      "       ...\n",
      "       'Machine Tact time Unit Time_Fill2',\n",
      "       'Machine Tact time Judge Value_Fill2', 'PalletID Unit Time_Fill2',\n",
      "       'PalletID Judge Value_Fill2', 'Production Qty Unit Time_Fill2',\n",
      "       'Production Qty Judge Value_Fill2', 'Receip No Unit Time_Fill2',\n",
      "       'Receip No Judge Value_Fill2', 'WorkMode Unit Time_Fill2',\n",
      "       'WorkMode Judge Value_Fill2'],\n",
      "      dtype='object', length=290)\n"
     ]
    }
   ],
   "source": [
    "print(columns_to_drop)"
   ]
  },
  {
   "cell_type": "code",
   "execution_count": 11,
   "id": "aa4fe894",
   "metadata": {},
   "outputs": [],
   "source": [
    "# 해석\n",
    "# 삭제시킨 열들이다 \n",
    "# 총 291개의 열들이 삭제됬고 타입은 object(문자형, 범주형)데이터다"
   ]
  },
  {
   "cell_type": "code",
   "execution_count": 12,
   "id": "28260470",
   "metadata": {},
   "outputs": [
    {
     "data": {
      "text/plain": [
       "count      40506\n",
       "unique         2\n",
       "top       Normal\n",
       "freq       38156\n",
       "Name: target, dtype: object"
      ]
     },
     "execution_count": 12,
     "metadata": {},
     "output_type": "execute_result"
    }
   ],
   "source": [
    "train_data_missing_value_drop['target'].describe()"
   ]
  },
  {
   "cell_type": "code",
   "execution_count": 13,
   "id": "8a03a659",
   "metadata": {},
   "outputs": [],
   "source": [
    "# 해석\n",
    "# 위와 마찬가지로 데이터를 drop 했으니 다시 'target'을 찍어봄"
   ]
  },
  {
   "cell_type": "code",
   "execution_count": 14,
   "id": "147474fe",
   "metadata": {},
   "outputs": [],
   "source": [
    "# 결과\n",
    "# 'target'열의 총 데이터 개수는 40506개로 'target'열에는 결측치가 없다\n",
    "# unique, top, freq(최빈값)은 아까와 결과가 똑같다"
   ]
  },
  {
   "cell_type": "code",
   "execution_count": 15,
   "id": "44c9fd8b",
   "metadata": {},
   "outputs": [],
   "source": [
    "pd.set_option('display.max_seq_items', None)"
   ]
  },
  {
   "cell_type": "code",
   "execution_count": 16,
   "id": "7d646ac2",
   "metadata": {},
   "outputs": [],
   "source": [
    "# pandas가 일정량의 데이터를 출력하면 알아서 짜르기 때문에 전체를 누락없이 출력하기 위해서 사용함"
   ]
  },
  {
   "cell_type": "code",
   "execution_count": 17,
   "id": "319e7c8b",
   "metadata": {},
   "outputs": [
    {
     "name": "stdout",
     "output_type": "stream",
     "text": [
      "Wip Line_Dam                           0\n",
      "Process Desc._Dam                      0\n",
      "Equipment_Dam                          0\n",
      "Model.Suffix_Dam                       0\n",
      "Workorder_Dam                          0\n",
      "                                      ..\n",
      "PalletID Collect Result_Fill2          0\n",
      "Production Qty Collect Result_Fill2    0\n",
      "Receip No Collect Result_Fill2         0\n",
      "WorkMode Collect Result_Fill2          0\n",
      "target                                 0\n",
      "Length: 174, dtype: int64\n"
     ]
    }
   ],
   "source": [
    "# Dataset에서 결측치 확인하기\n",
    "train_data_missing_value_drop = train_data_missing_value_drop.isnull().sum()\n",
    "\n",
    "print(train_data_missing_value_drop)\n",
    "\n",
    "# 해석 다시 데이터프레임 결과를 확앤 해줬다"
   ]
  },
  {
   "cell_type": "code",
   "execution_count": 18,
   "id": "f965a899",
   "metadata": {},
   "outputs": [],
   "source": [
    "# 결과\n",
    "# 역시 174개의 열에서 결츠기가 없다고 나온다 \n",
    "# 이제 이 데이터셋은 결측치 처리 부분은 끝났고 \n",
    "# 추가적으로 처리를 안한다면 분석이나 모델에 쓰면 된다"
   ]
  },
  {
   "cell_type": "code",
   "execution_count": 19,
   "id": "8a69dbe3",
   "metadata": {},
   "outputs": [
    {
     "name": "stdout",
     "output_type": "stream",
     "text": [
      "<class 'pandas.core.series.Series'>\n",
      "Index: 174 entries, Wip Line_Dam to target\n",
      "Series name: None\n",
      "Non-Null Count  Dtype\n",
      "--------------  -----\n",
      "174 non-null    int64\n",
      "dtypes: int64(1)\n",
      "memory usage: 6.8+ KB\n"
     ]
    }
   ],
   "source": [
    "train_data_missing_value_drop.info()\n",
    "# 해석\n",
    "# info()로 데이터의 정보를 확인"
   ]
  },
  {
   "cell_type": "code",
   "execution_count": 20,
   "id": "d5dd42d2",
   "metadata": {},
   "outputs": [],
   "source": [
    "# class가 pandas의 series로 나오고 1차원 배열 형태의 데이터 구조라는 소리다\n",
    "# series에 174개의 항목이있고 index는  'Wip Line_Dam'에서 'target'까지 포함하고 있다\n",
    "# 즉 series는 결측치가 없고 174개의 열이 인덱스 이름(Wip Line_Dam에서 target까지 있음)메모리는 6.8kb 차지함"
   ]
  },
  {
   "cell_type": "code",
   "execution_count": 21,
   "id": "38823f3e",
   "metadata": {},
   "outputs": [
    {
     "data": {
      "text/plain": [
       "Series([], dtype: int64)"
      ]
     },
     "execution_count": 21,
     "metadata": {},
     "output_type": "execute_result"
    }
   ],
   "source": [
    "# 원래 데이터프레임을 사용해 결측치 처리를 진행해야 합니다.\n",
    "original_df = train_data  # 원래 데이터프레임을 할당 (train_data를 사용)\n",
    "\n",
    "# 100% 결측치가 있는 열들을 삭제 후, 그 결과를 다시 original_df로 갱신\n",
    "columns_to_drop = missing_percentage[missing_percentage == 100].index\n",
    "original_df = original_df.drop(columns=columns_to_drop)\n",
    "\n",
    "# 수치형 변수의 결측치 중앙값으로 대체\n",
    "num_cols = original_df.select_dtypes(include=['float64', 'int64']).columns\n",
    "for col in num_cols:\n",
    "    if original_df[col].isnull().sum() > 0:\n",
    "        original_df[col].fillna(original_df[col].median(), inplace=True)\n",
    "\n",
    "# 범주형 변수의 결측치는 최빈값으로 대체\n",
    "cat_cols = original_df.select_dtypes(include=['object']).columns\n",
    "for col in cat_cols:\n",
    "    if original_df[col].isnull().sum() > 0:\n",
    "        original_df[col].fillna(original_df[col].mode()[0], inplace=True)\n",
    "\n",
    "# 결측치 처리 후 데이터프레임\n",
    "after_missing_data = original_df\n",
    "\n",
    "# 결측치 처리 후 확인\n",
    "missing_data_after = original_df.isnull().sum()\n",
    "missing_data_after = missing_data_after[missing_data_after > 0]\n",
    "\n",
    "missing_data_after"
   ]
  },
  {
   "cell_type": "code",
   "execution_count": 22,
   "id": "5577e28a",
   "metadata": {},
   "outputs": [],
   "source": [
    "# 해석\n",
    "# 수치형 변수와 범주형 변수 모두 결측치가 있을 수 있어서\n",
    "# 각각 특성에 맞는 방법(중앙값, 최빈값)으로 결측치를 처리해주고\n",
    "# 다시 데이터프레임화 해줬다 데이터는 이제 결측치 없이 사용가능하다"
   ]
  },
  {
   "cell_type": "code",
   "execution_count": 23,
   "id": "80186626",
   "metadata": {},
   "outputs": [
    {
     "name": "stdout",
     "output_type": "stream",
     "text": [
      "Defaulting to user installation because normal site-packages is not writeable\n",
      "Requirement already satisfied: seaborn in ./.local/lib/python3.10/site-packages (0.13.2)\n",
      "Requirement already satisfied: numpy!=1.24.0,>=1.20 in ./.local/lib/python3.10/site-packages (from seaborn) (1.23.5)\n",
      "Requirement already satisfied: matplotlib!=3.6.1,>=3.4 in ./.local/lib/python3.10/site-packages (from seaborn) (3.8.2)\n",
      "Requirement already satisfied: pandas>=1.2 in ./.local/lib/python3.10/site-packages (from seaborn) (2.1.4)\n",
      "Requirement already satisfied: kiwisolver>=1.3.1 in ./.local/lib/python3.10/site-packages (from matplotlib!=3.6.1,>=3.4->seaborn) (1.4.5)\n",
      "Requirement already satisfied: contourpy>=1.0.1 in ./.local/lib/python3.10/site-packages (from matplotlib!=3.6.1,>=3.4->seaborn) (1.2.1)\n",
      "Requirement already satisfied: fonttools>=4.22.0 in ./.local/lib/python3.10/site-packages (from matplotlib!=3.6.1,>=3.4->seaborn) (4.53.1)\n",
      "Requirement already satisfied: pillow>=8 in ./.local/lib/python3.10/site-packages (from matplotlib!=3.6.1,>=3.4->seaborn) (10.4.0)\n",
      "Requirement already satisfied: pyparsing>=2.3.1 in ./.local/lib/python3.10/site-packages (from matplotlib!=3.6.1,>=3.4->seaborn) (3.1.2)\n",
      "Requirement already satisfied: packaging>=20.0 in ./.local/lib/python3.10/site-packages (from matplotlib!=3.6.1,>=3.4->seaborn) (23.2)\n",
      "Requirement already satisfied: python-dateutil>=2.7 in ./.local/lib/python3.10/site-packages (from matplotlib!=3.6.1,>=3.4->seaborn) (2.8.2)\n",
      "Requirement already satisfied: cycler>=0.10 in ./.local/lib/python3.10/site-packages (from matplotlib!=3.6.1,>=3.4->seaborn) (0.12.1)\n",
      "Requirement already satisfied: pytz>=2020.1 in ./.local/lib/python3.10/site-packages (from pandas>=1.2->seaborn) (2024.1)\n",
      "Requirement already satisfied: tzdata>=2022.1 in ./.local/lib/python3.10/site-packages (from pandas>=1.2->seaborn) (2024.1)\n",
      "Requirement already satisfied: six>=1.5 in ./.local/lib/python3.10/site-packages (from python-dateutil>=2.7->matplotlib!=3.6.1,>=3.4->seaborn) (1.16.0)\n",
      "\n",
      "\u001b[1m[\u001b[0m\u001b[34;49mnotice\u001b[0m\u001b[1;39;49m]\u001b[0m\u001b[39;49m A new release of pip is available: \u001b[0m\u001b[31;49m23.0.1\u001b[0m\u001b[39;49m -> \u001b[0m\u001b[32;49m24.2\u001b[0m\n",
      "\u001b[1m[\u001b[0m\u001b[34;49mnotice\u001b[0m\u001b[1;39;49m]\u001b[0m\u001b[39;49m To update, run: \u001b[0m\u001b[32;49mpip install --upgrade pip\u001b[0m\n",
      "Note: you may need to restart the kernel to use updated packages.\n"
     ]
    }
   ],
   "source": [
    "pip install seaborn"
   ]
  },
  {
   "cell_type": "code",
   "execution_count": 24,
   "id": "65663bab",
   "metadata": {},
   "outputs": [
    {
     "name": "stderr",
     "output_type": "stream",
     "text": [
      "/home/elicer/.local/lib/python3.10/site-packages/sklearn/preprocessing/_encoders.py:868: FutureWarning: `sparse` was renamed to `sparse_output` in version 1.2 and will be removed in 1.4. `sparse_output` is ignored unless you leave `sparse` to its default value.\n",
      "  warnings.warn(\n"
     ]
    },
    {
     "data": {
      "image/png": "[encoded data removed]",
      "text/plain": [
       "<Figure size 1000x600 with 1 Axes>"
      ]
     },
     "metadata": {},
     "output_type": "display_data"
    },
    {
     "name": "stdout",
     "output_type": "stream",
     "text": [
      "Explained variance ratio: [0.02532329 0.00869003 0.00581119 0.00337585 0.00312139 0.00290884\n",
      " 0.00289375 0.00284076 0.00283049 0.00255377 0.00241702 0.0021328\n",
      " 0.00207352 0.00205976 0.00200957 0.0019458  0.00186039 0.00181756\n",
      " 0.00169887 0.00166119 0.00163091 0.00159422 0.00157665 0.00152218\n",
      " 0.00150624 0.00149774 0.00148163 0.00147525 0.00146646 0.00145496\n",
      " 0.00145056 0.00144553 0.00144178 0.0014391  0.00143591 0.00143385\n",
      " 0.00143089 0.00142979 0.00142881 0.00142671 0.00142545 0.00142483\n",
      " 0.00142419 0.00142395 0.00142367 0.00142362 0.00142357 0.00142352\n",
      " 0.00142345 0.00142335 0.00142333 0.00142332 0.00142329 0.00142319\n",
      " 0.00142317 0.00142313 0.00142307 0.00142302 0.001423   0.00142298\n",
      " 0.00142296 0.00142292 0.0014229  0.00142287 0.00142286 0.00142283\n",
      " 0.00142277 0.00142271 0.00142269 0.00142268 0.00142267 0.00142263\n",
      " 0.00142261 0.00142259 0.00142254 0.00142253 0.00142252 0.0014225\n",
      " 0.00142248 0.00142244 0.00142243 0.00142242 0.00142241 0.00142238\n",
      " 0.00142235 0.00142234 0.00142229 0.00142228 0.00142226 0.00142222\n",
      " 0.0014222  0.00142218 0.00142216 0.00142214 0.00142213 0.00142213\n",
      " 0.00142208 0.00142206 0.00142204 0.00142203]\n",
      "Cumulative explained variance: [0.02532329 0.03401331 0.0398245  0.04320035 0.04632174 0.04923058\n",
      " 0.05212432 0.05496509 0.05779558 0.06034935 0.06276636 0.06489916\n",
      " 0.06697268 0.06903243 0.07104201 0.07298781 0.0748482  0.07666576\n",
      " 0.07836463 0.08002582 0.08165673 0.08325095 0.08482759 0.08634977\n",
      " 0.08785601 0.08935375 0.09083538 0.09231062 0.09377709 0.09523205\n",
      " 0.0966826  0.09812814 0.09956992 0.10100903 0.10244493 0.10387878\n",
      " 0.10530967 0.10673946 0.10816827 0.10959498 0.11102043 0.11244526\n",
      " 0.11386945 0.1152934  0.11671707 0.11814069 0.11956426 0.12098778\n",
      " 0.12241123 0.12383459 0.12525791 0.12668124 0.12810452 0.12952772\n",
      " 0.13095089 0.13237402 0.13379709 0.1352201  0.1366431  0.13806608\n",
      " 0.13948904 0.14091197 0.14233487 0.14375774 0.1451806  0.14660343\n",
      " 0.1480262  0.14944891 0.1508716  0.15229429 0.15371695 0.15513958\n",
      " 0.15656219 0.15798477 0.15940732 0.16082985 0.16225236 0.16367486\n",
      " 0.16509734 0.16651979 0.16794222 0.16936464 0.17078705 0.17220943\n",
      " 0.17363177 0.17505411 0.1764764  0.17789868 0.17932094 0.18074316\n",
      " 0.18216536 0.18358754 0.18500971 0.18643185 0.18785398 0.18927611\n",
      " 0.19069819 0.19212025 0.19354229 0.19496433]\n"
     ]
    }
   ],
   "source": [
    "import pandas as pd\n",
    "import numpy as np\n",
    "from sklearn.preprocessing import OneHotEncoder, StandardScaler\n",
    "from sklearn.decomposition import PCA\n",
    "import matplotlib.pyplot as plt\n",
    "import seaborn as sns\n",
    "\n",
    "# 데이터 전처리 코드 (기존 코드와 동일)\n",
    "train_data = after_missing_data\n",
    "\n",
    "# 1. 수치형 변수의 결측치를 중앙값으로 대체\n",
    "numeric_cols = train_data.select_dtypes(include=['float64', 'int64']).columns\n",
    "for col in numeric_cols:\n",
    "    if train_data[col].isnull().sum() > 0:\n",
    "        train_data[col].fillna(train_data[col].median(), inplace=True)\n",
    "\n",
    "# 2. 범주형 변수의 결측치를 최빈값으로 대체\n",
    "cat_cols = train_data.select_dtypes(include=['object']).columns\n",
    "for col in cat_cols:\n",
    "    if train_data[col].isnull().sum() > 0:\n",
    "        train_data[col].fillna(train_data[col].mode()[0], inplace=True)\n",
    "\n",
    "# 3. 범주형 변수 원-핫 인코딩\n",
    "encoder = OneHotEncoder(sparse=False, drop='first')\n",
    "encoded_cat_data = encoder.fit_transform(train_data[cat_cols])\n",
    "encoded_cat_df = pd.DataFrame(encoded_cat_data, columns=encoder.get_feature_names_out(cat_cols))\n",
    "\n",
    "# 수치형 데이터와 인코딩된 범주형 데이터 결합\n",
    "processed_data = pd.concat([train_data[numeric_cols], encoded_cat_df], axis=1)\n",
    "\n",
    "# 4. 데이터 표준화\n",
    "scaler = StandardScaler()\n",
    "scaled_data = scaler.fit_transform(processed_data)\n",
    "\n",
    "# 5. PCA 적용 - 100개의 주성분으로 설정\n",
    "pca = PCA(n_components=100)\n",
    "pca_result = pca.fit_transform(scaled_data)\n",
    "\n",
    "# PCA 성분별 중요도 확인 및 누적 설명된 분산 비율 계산\n",
    "explained_variances = pca.explained_variance_ratio_\n",
    "cumulative_variance = np.cumsum(explained_variances)\n",
    "\n",
    "# 누적 설명된 분산 비율 시각화 (엘보우 방법)\n",
    "plt.figure(figsize=(10, 6))\n",
    "plt.plot(range(1, len(cumulative_variance) + 1), cumulative_variance, marker='o')\n",
    "plt.title('Cumulative Explained Variance by Number of Principal Components')\n",
    "plt.xlabel('Number of Principal Components')\n",
    "plt.ylabel('Cumulative Explained Variance')\n",
    "plt.axhline(y=0.7, color='r', linestyle='--', label='70% Explained Variance')\n",
    "plt.legend()\n",
    "plt.show()\n",
    "\n",
    "# PCA 성분별 중요도 확인\n",
    "print(f'Explained variance ratio: {explained_variances}')\n",
    "print(f'Cumulative explained variance: {cumulative_variance}')"
   ]
  },
  {
   "cell_type": "code",
   "execution_count": 27,
   "id": "cbda5943",
   "metadata": {},
   "outputs": [],
   "source": [
    "# 해석\n",
    "# 주성분 1의 분산 비율이 0.0253(약 2.53%)\n",
    "# 주성분 2의 분산 비율이 0.0087(약 0.87%)가 나왔다\n",
    "# 그러니까 2.53+0.87=3.4%정도로 \n",
    "# 결측치 처리한 이 데이터의 96.6% 정보가 1, 2번째 말고 다른데에 분포 되어있다라고 볼 수 있음\n",
    "# 이렇게 낮은 이유는 주요한 정보는 더 높은 차원의 주성분에 존재할 가능성이 높다고 볼 수 있다"
   ]
  },
  {
   "cell_type": "code",
   "execution_count": 28,
   "id": "27d6a74c",
   "metadata": {},
   "outputs": [
    {
     "name": "stdout",
     "output_type": "stream",
     "text": [
      "Defaulting to user installation because normal site-packages is not writeable\n",
      "Requirement already satisfied: imbalanced-learn in ./.local/lib/python3.10/site-packages (0.12.3)\n",
      "Requirement already satisfied: threadpoolctl>=2.0.0 in ./.local/lib/python3.10/site-packages (from imbalanced-learn) (3.5.0)\n",
      "Requirement already satisfied: scikit-learn>=1.0.2 in ./.local/lib/python3.10/site-packages (from imbalanced-learn) (1.2.2)\n",
      "Requirement already satisfied: joblib>=1.1.1 in ./.local/lib/python3.10/site-packages (from imbalanced-learn) (1.4.2)\n",
      "Requirement already satisfied: scipy>=1.5.0 in ./.local/lib/python3.10/site-packages (from imbalanced-learn) (1.14.0)\n",
      "Requirement already satisfied: numpy>=1.17.3 in ./.local/lib/python3.10/site-packages (from imbalanced-learn) (1.23.5)\n",
      "\n",
      "\u001b[1m[\u001b[0m\u001b[34;49mnotice\u001b[0m\u001b[1;39;49m]\u001b[0m\u001b[39;49m A new release of pip is available: \u001b[0m\u001b[31;49m23.0.1\u001b[0m\u001b[39;49m -> \u001b[0m\u001b[32;49m24.2\u001b[0m\n",
      "\u001b[1m[\u001b[0m\u001b[34;49mnotice\u001b[0m\u001b[1;39;49m]\u001b[0m\u001b[39;49m To update, run: \u001b[0m\u001b[32;49mpip install --upgrade pip\u001b[0m\n",
      "Note: you may need to restart the kernel to use updated packages.\n"
     ]
    }
   ],
   "source": [
    "pip install imbalanced-learn"
   ]
  },
  {
   "cell_type": "code",
   "execution_count": 29,
   "id": "0c425b74",
   "metadata": {},
   "outputs": [
    {
     "name": "stderr",
     "output_type": "stream",
     "text": [
      "/home/elicer/.local/lib/python3.10/site-packages/sklearn/preprocessing/_encoders.py:868: FutureWarning: `sparse` was renamed to `sparse_output` in version 1.2 and will be removed in 1.4. `sparse_output` is ignored unless you leave `sparse` to its default value.\n",
      "  warnings.warn(\n"
     ]
    },
    {
     "ename": "ValueError",
     "evalue": "Input X contains NaN.\nSMOTE does not accept missing values encoded as NaN natively. For supervised learning, you might want to consider sklearn.ensemble.HistGradientBoostingClassifier and Regressor which accept missing values encoded as NaNs natively. Alternatively, it is possible to preprocess the data, for instance by using an imputer transformer in a pipeline or drop samples with missing values. See https://scikit-learn.org/stable/modules/impute.html You can find a list of all estimators that handle NaN values at the following page: https://scikit-learn.org/stable/modules/impute.html#estimators-that-handle-nan-values",
     "output_type": "error",
     "traceback": [
      "\u001b[0;31m---------------------------------------------------------------------------\u001b[0m",
      "\u001b[0;31mValueError\u001b[0m                                Traceback (most recent call last)",
      "Cell \u001b[0;32mIn[29], line 51\u001b[0m\n\u001b[1;32m     49\u001b[0m \u001b[38;5;66;03m# 9. SMOTE 적용\u001b[39;00m\n\u001b[1;32m     50\u001b[0m smote \u001b[38;5;241m=\u001b[39m SMOTE(random_state\u001b[38;5;241m=\u001b[39m\u001b[38;5;241m42\u001b[39m)\n\u001b[0;32m---> 51\u001b[0m X_resampled, y_resampled \u001b[38;5;241m=\u001b[39m \u001b[43msmote\u001b[49m\u001b[38;5;241;43m.\u001b[39;49m\u001b[43mfit_resample\u001b[49m\u001b[43m(\u001b[49m\u001b[43mscaled_data\u001b[49m\u001b[43m,\u001b[49m\u001b[43m \u001b[49m\u001b[43my\u001b[49m\u001b[43m)\u001b[49m\n\u001b[1;32m     53\u001b[0m \u001b[38;5;66;03m# 10. PCA 적용\u001b[39;00m\n\u001b[1;32m     54\u001b[0m pca \u001b[38;5;241m=\u001b[39m PCA(n_components\u001b[38;5;241m=\u001b[39m\u001b[38;5;241m20\u001b[39m)\n",
      "File \u001b[0;32m~/.local/lib/python3.10/site-packages/imblearn/base.py:208\u001b[0m, in \u001b[0;36mBaseSampler.fit_resample\u001b[0;34m(self, X, y)\u001b[0m\n\u001b[1;32m    187\u001b[0m \u001b[38;5;250m\u001b[39m\u001b[38;5;124;03m\"\"\"Resample the dataset.\u001b[39;00m\n\u001b[1;32m    188\u001b[0m \n\u001b[1;32m    189\u001b[0m \u001b[38;5;124;03mParameters\u001b[39;00m\n\u001b[0;32m   (...)\u001b[0m\n\u001b[1;32m    205\u001b[0m \u001b[38;5;124;03m    The corresponding label of `X_resampled`.\u001b[39;00m\n\u001b[1;32m    206\u001b[0m \u001b[38;5;124;03m\"\"\"\u001b[39;00m\n\u001b[1;32m    207\u001b[0m \u001b[38;5;28mself\u001b[39m\u001b[38;5;241m.\u001b[39m_validate_params()\n\u001b[0;32m--> 208\u001b[0m \u001b[38;5;28;01mreturn\u001b[39;00m \u001b[38;5;28;43msuper\u001b[39;49m\u001b[43m(\u001b[49m\u001b[43m)\u001b[49m\u001b[38;5;241;43m.\u001b[39;49m\u001b[43mfit_resample\u001b[49m\u001b[43m(\u001b[49m\u001b[43mX\u001b[49m\u001b[43m,\u001b[49m\u001b[43m \u001b[49m\u001b[43my\u001b[49m\u001b[43m)\u001b[49m\n",
      "File \u001b[0;32m~/.local/lib/python3.10/site-packages/imblearn/base.py:106\u001b[0m, in \u001b[0;36mSamplerMixin.fit_resample\u001b[0;34m(self, X, y)\u001b[0m\n\u001b[1;32m    104\u001b[0m check_classification_targets(y)\n\u001b[1;32m    105\u001b[0m arrays_transformer \u001b[38;5;241m=\u001b[39m ArraysTransformer(X, y)\n\u001b[0;32m--> 106\u001b[0m X, y, binarize_y \u001b[38;5;241m=\u001b[39m \u001b[38;5;28;43mself\u001b[39;49m\u001b[38;5;241;43m.\u001b[39;49m\u001b[43m_check_X_y\u001b[49m\u001b[43m(\u001b[49m\u001b[43mX\u001b[49m\u001b[43m,\u001b[49m\u001b[43m \u001b[49m\u001b[43my\u001b[49m\u001b[43m)\u001b[49m\n\u001b[1;32m    108\u001b[0m \u001b[38;5;28mself\u001b[39m\u001b[38;5;241m.\u001b[39msampling_strategy_ \u001b[38;5;241m=\u001b[39m check_sampling_strategy(\n\u001b[1;32m    109\u001b[0m     \u001b[38;5;28mself\u001b[39m\u001b[38;5;241m.\u001b[39msampling_strategy, y, \u001b[38;5;28mself\u001b[39m\u001b[38;5;241m.\u001b[39m_sampling_type\n\u001b[1;32m    110\u001b[0m )\n\u001b[1;32m    112\u001b[0m output \u001b[38;5;241m=\u001b[39m \u001b[38;5;28mself\u001b[39m\u001b[38;5;241m.\u001b[39m_fit_resample(X, y)\n",
      "File \u001b[0;32m~/.local/lib/python3.10/site-packages/imblearn/base.py:161\u001b[0m, in \u001b[0;36mBaseSampler._check_X_y\u001b[0;34m(self, X, y, accept_sparse)\u001b[0m\n\u001b[1;32m    159\u001b[0m     accept_sparse \u001b[38;5;241m=\u001b[39m [\u001b[38;5;124m\"\u001b[39m\u001b[38;5;124mcsr\u001b[39m\u001b[38;5;124m\"\u001b[39m, \u001b[38;5;124m\"\u001b[39m\u001b[38;5;124mcsc\u001b[39m\u001b[38;5;124m\"\u001b[39m]\n\u001b[1;32m    160\u001b[0m y, binarize_y \u001b[38;5;241m=\u001b[39m check_target_type(y, indicate_one_vs_all\u001b[38;5;241m=\u001b[39m\u001b[38;5;28;01mTrue\u001b[39;00m)\n\u001b[0;32m--> 161\u001b[0m X, y \u001b[38;5;241m=\u001b[39m \u001b[38;5;28;43mself\u001b[39;49m\u001b[38;5;241;43m.\u001b[39;49m\u001b[43m_validate_data\u001b[49m\u001b[43m(\u001b[49m\u001b[43mX\u001b[49m\u001b[43m,\u001b[49m\u001b[43m \u001b[49m\u001b[43my\u001b[49m\u001b[43m,\u001b[49m\u001b[43m \u001b[49m\u001b[43mreset\u001b[49m\u001b[38;5;241;43m=\u001b[39;49m\u001b[38;5;28;43;01mTrue\u001b[39;49;00m\u001b[43m,\u001b[49m\u001b[43m \u001b[49m\u001b[43maccept_sparse\u001b[49m\u001b[38;5;241;43m=\u001b[39;49m\u001b[43maccept_sparse\u001b[49m\u001b[43m)\u001b[49m\n\u001b[1;32m    162\u001b[0m \u001b[38;5;28;01mreturn\u001b[39;00m X, y, binarize_y\n",
      "File \u001b[0;32m~/.local/lib/python3.10/site-packages/sklearn/base.py:584\u001b[0m, in \u001b[0;36mBaseEstimator._validate_data\u001b[0;34m(self, X, y, reset, validate_separately, **check_params)\u001b[0m\n\u001b[1;32m    582\u001b[0m         y \u001b[38;5;241m=\u001b[39m check_array(y, input_name\u001b[38;5;241m=\u001b[39m\u001b[38;5;124m\"\u001b[39m\u001b[38;5;124my\u001b[39m\u001b[38;5;124m\"\u001b[39m, \u001b[38;5;241m*\u001b[39m\u001b[38;5;241m*\u001b[39mcheck_y_params)\n\u001b[1;32m    583\u001b[0m     \u001b[38;5;28;01melse\u001b[39;00m:\n\u001b[0;32m--> 584\u001b[0m         X, y \u001b[38;5;241m=\u001b[39m \u001b[43mcheck_X_y\u001b[49m\u001b[43m(\u001b[49m\u001b[43mX\u001b[49m\u001b[43m,\u001b[49m\u001b[43m \u001b[49m\u001b[43my\u001b[49m\u001b[43m,\u001b[49m\u001b[43m \u001b[49m\u001b[38;5;241;43m*\u001b[39;49m\u001b[38;5;241;43m*\u001b[39;49m\u001b[43mcheck_params\u001b[49m\u001b[43m)\u001b[49m\n\u001b[1;32m    585\u001b[0m     out \u001b[38;5;241m=\u001b[39m X, y\n\u001b[1;32m    587\u001b[0m \u001b[38;5;28;01mif\u001b[39;00m \u001b[38;5;129;01mnot\u001b[39;00m no_val_X \u001b[38;5;129;01mand\u001b[39;00m check_params\u001b[38;5;241m.\u001b[39mget(\u001b[38;5;124m\"\u001b[39m\u001b[38;5;124mensure_2d\u001b[39m\u001b[38;5;124m\"\u001b[39m, \u001b[38;5;28;01mTrue\u001b[39;00m):\n",
      "File \u001b[0;32m~/.local/lib/python3.10/site-packages/sklearn/utils/validation.py:1106\u001b[0m, in \u001b[0;36mcheck_X_y\u001b[0;34m(X, y, accept_sparse, accept_large_sparse, dtype, order, copy, force_all_finite, ensure_2d, allow_nd, multi_output, ensure_min_samples, ensure_min_features, y_numeric, estimator)\u001b[0m\n\u001b[1;32m   1101\u001b[0m         estimator_name \u001b[38;5;241m=\u001b[39m _check_estimator_name(estimator)\n\u001b[1;32m   1102\u001b[0m     \u001b[38;5;28;01mraise\u001b[39;00m \u001b[38;5;167;01mValueError\u001b[39;00m(\n\u001b[1;32m   1103\u001b[0m         \u001b[38;5;124mf\u001b[39m\u001b[38;5;124m\"\u001b[39m\u001b[38;5;132;01m{\u001b[39;00mestimator_name\u001b[38;5;132;01m}\u001b[39;00m\u001b[38;5;124m requires y to be passed, but the target y is None\u001b[39m\u001b[38;5;124m\"\u001b[39m\n\u001b[1;32m   1104\u001b[0m     )\n\u001b[0;32m-> 1106\u001b[0m X \u001b[38;5;241m=\u001b[39m \u001b[43mcheck_array\u001b[49m\u001b[43m(\u001b[49m\n\u001b[1;32m   1107\u001b[0m \u001b[43m    \u001b[49m\u001b[43mX\u001b[49m\u001b[43m,\u001b[49m\n\u001b[1;32m   1108\u001b[0m \u001b[43m    \u001b[49m\u001b[43maccept_sparse\u001b[49m\u001b[38;5;241;43m=\u001b[39;49m\u001b[43maccept_sparse\u001b[49m\u001b[43m,\u001b[49m\n\u001b[1;32m   1109\u001b[0m \u001b[43m    \u001b[49m\u001b[43maccept_large_sparse\u001b[49m\u001b[38;5;241;43m=\u001b[39;49m\u001b[43maccept_large_sparse\u001b[49m\u001b[43m,\u001b[49m\n\u001b[1;32m   1110\u001b[0m \u001b[43m    \u001b[49m\u001b[43mdtype\u001b[49m\u001b[38;5;241;43m=\u001b[39;49m\u001b[43mdtype\u001b[49m\u001b[43m,\u001b[49m\n\u001b[1;32m   1111\u001b[0m \u001b[43m    \u001b[49m\u001b[43morder\u001b[49m\u001b[38;5;241;43m=\u001b[39;49m\u001b[43morder\u001b[49m\u001b[43m,\u001b[49m\n\u001b[1;32m   1112\u001b[0m \u001b[43m    \u001b[49m\u001b[43mcopy\u001b[49m\u001b[38;5;241;43m=\u001b[39;49m\u001b[43mcopy\u001b[49m\u001b[43m,\u001b[49m\n\u001b[1;32m   1113\u001b[0m \u001b[43m    \u001b[49m\u001b[43mforce_all_finite\u001b[49m\u001b[38;5;241;43m=\u001b[39;49m\u001b[43mforce_all_finite\u001b[49m\u001b[43m,\u001b[49m\n\u001b[1;32m   1114\u001b[0m \u001b[43m    \u001b[49m\u001b[43mensure_2d\u001b[49m\u001b[38;5;241;43m=\u001b[39;49m\u001b[43mensure_2d\u001b[49m\u001b[43m,\u001b[49m\n\u001b[1;32m   1115\u001b[0m \u001b[43m    \u001b[49m\u001b[43mallow_nd\u001b[49m\u001b[38;5;241;43m=\u001b[39;49m\u001b[43mallow_nd\u001b[49m\u001b[43m,\u001b[49m\n\u001b[1;32m   1116\u001b[0m \u001b[43m    \u001b[49m\u001b[43mensure_min_samples\u001b[49m\u001b[38;5;241;43m=\u001b[39;49m\u001b[43mensure_min_samples\u001b[49m\u001b[43m,\u001b[49m\n\u001b[1;32m   1117\u001b[0m \u001b[43m    \u001b[49m\u001b[43mensure_min_features\u001b[49m\u001b[38;5;241;43m=\u001b[39;49m\u001b[43mensure_min_features\u001b[49m\u001b[43m,\u001b[49m\n\u001b[1;32m   1118\u001b[0m \u001b[43m    \u001b[49m\u001b[43mestimator\u001b[49m\u001b[38;5;241;43m=\u001b[39;49m\u001b[43mestimator\u001b[49m\u001b[43m,\u001b[49m\n\u001b[1;32m   1119\u001b[0m \u001b[43m    \u001b[49m\u001b[43minput_name\u001b[49m\u001b[38;5;241;43m=\u001b[39;49m\u001b[38;5;124;43m\"\u001b[39;49m\u001b[38;5;124;43mX\u001b[39;49m\u001b[38;5;124;43m\"\u001b[39;49m\u001b[43m,\u001b[49m\n\u001b[1;32m   1120\u001b[0m \u001b[43m\u001b[49m\u001b[43m)\u001b[49m\n\u001b[1;32m   1122\u001b[0m y \u001b[38;5;241m=\u001b[39m _check_y(y, multi_output\u001b[38;5;241m=\u001b[39mmulti_output, y_numeric\u001b[38;5;241m=\u001b[39my_numeric, estimator\u001b[38;5;241m=\u001b[39mestimator)\n\u001b[1;32m   1124\u001b[0m check_consistent_length(X, y)\n",
      "File \u001b[0;32m~/.local/lib/python3.10/site-packages/sklearn/utils/validation.py:921\u001b[0m, in \u001b[0;36mcheck_array\u001b[0;34m(array, accept_sparse, accept_large_sparse, dtype, order, copy, force_all_finite, ensure_2d, allow_nd, ensure_min_samples, ensure_min_features, estimator, input_name)\u001b[0m\n\u001b[1;32m    915\u001b[0m         \u001b[38;5;28;01mraise\u001b[39;00m \u001b[38;5;167;01mValueError\u001b[39;00m(\n\u001b[1;32m    916\u001b[0m             \u001b[38;5;124m\"\u001b[39m\u001b[38;5;124mFound array with dim \u001b[39m\u001b[38;5;132;01m%d\u001b[39;00m\u001b[38;5;124m. \u001b[39m\u001b[38;5;132;01m%s\u001b[39;00m\u001b[38;5;124m expected <= 2.\u001b[39m\u001b[38;5;124m\"\u001b[39m\n\u001b[1;32m    917\u001b[0m             \u001b[38;5;241m%\u001b[39m (array\u001b[38;5;241m.\u001b[39mndim, estimator_name)\n\u001b[1;32m    918\u001b[0m         )\n\u001b[1;32m    920\u001b[0m     \u001b[38;5;28;01mif\u001b[39;00m force_all_finite:\n\u001b[0;32m--> 921\u001b[0m         \u001b[43m_assert_all_finite\u001b[49m\u001b[43m(\u001b[49m\n\u001b[1;32m    922\u001b[0m \u001b[43m            \u001b[49m\u001b[43marray\u001b[49m\u001b[43m,\u001b[49m\n\u001b[1;32m    923\u001b[0m \u001b[43m            \u001b[49m\u001b[43minput_name\u001b[49m\u001b[38;5;241;43m=\u001b[39;49m\u001b[43minput_name\u001b[49m\u001b[43m,\u001b[49m\n\u001b[1;32m    924\u001b[0m \u001b[43m            \u001b[49m\u001b[43mestimator_name\u001b[49m\u001b[38;5;241;43m=\u001b[39;49m\u001b[43mestimator_name\u001b[49m\u001b[43m,\u001b[49m\n\u001b[1;32m    925\u001b[0m \u001b[43m            \u001b[49m\u001b[43mallow_nan\u001b[49m\u001b[38;5;241;43m=\u001b[39;49m\u001b[43mforce_all_finite\u001b[49m\u001b[43m \u001b[49m\u001b[38;5;241;43m==\u001b[39;49m\u001b[43m \u001b[49m\u001b[38;5;124;43m\"\u001b[39;49m\u001b[38;5;124;43mallow-nan\u001b[39;49m\u001b[38;5;124;43m\"\u001b[39;49m\u001b[43m,\u001b[49m\n\u001b[1;32m    926\u001b[0m \u001b[43m        \u001b[49m\u001b[43m)\u001b[49m\n\u001b[1;32m    928\u001b[0m \u001b[38;5;28;01mif\u001b[39;00m ensure_min_samples \u001b[38;5;241m>\u001b[39m \u001b[38;5;241m0\u001b[39m:\n\u001b[1;32m    929\u001b[0m     n_samples \u001b[38;5;241m=\u001b[39m _num_samples(array)\n",
      "File \u001b[0;32m~/.local/lib/python3.10/site-packages/sklearn/utils/validation.py:161\u001b[0m, in \u001b[0;36m_assert_all_finite\u001b[0;34m(X, allow_nan, msg_dtype, estimator_name, input_name)\u001b[0m\n\u001b[1;32m    144\u001b[0m \u001b[38;5;28;01mif\u001b[39;00m estimator_name \u001b[38;5;129;01mand\u001b[39;00m input_name \u001b[38;5;241m==\u001b[39m \u001b[38;5;124m\"\u001b[39m\u001b[38;5;124mX\u001b[39m\u001b[38;5;124m\"\u001b[39m \u001b[38;5;129;01mand\u001b[39;00m has_nan_error:\n\u001b[1;32m    145\u001b[0m     \u001b[38;5;66;03m# Improve the error message on how to handle missing values in\u001b[39;00m\n\u001b[1;32m    146\u001b[0m     \u001b[38;5;66;03m# scikit-learn.\u001b[39;00m\n\u001b[1;32m    147\u001b[0m     msg_err \u001b[38;5;241m+\u001b[39m\u001b[38;5;241m=\u001b[39m (\n\u001b[1;32m    148\u001b[0m         \u001b[38;5;124mf\u001b[39m\u001b[38;5;124m\"\u001b[39m\u001b[38;5;130;01m\\n\u001b[39;00m\u001b[38;5;132;01m{\u001b[39;00mestimator_name\u001b[38;5;132;01m}\u001b[39;00m\u001b[38;5;124m does not accept missing values\u001b[39m\u001b[38;5;124m\"\u001b[39m\n\u001b[1;32m    149\u001b[0m         \u001b[38;5;124m\"\u001b[39m\u001b[38;5;124m encoded as NaN natively. For supervised learning, you might want\u001b[39m\u001b[38;5;124m\"\u001b[39m\n\u001b[0;32m   (...)\u001b[0m\n\u001b[1;32m    159\u001b[0m         \u001b[38;5;124m\"\u001b[39m\u001b[38;5;124m#estimators-that-handle-nan-values\u001b[39m\u001b[38;5;124m\"\u001b[39m\n\u001b[1;32m    160\u001b[0m     )\n\u001b[0;32m--> 161\u001b[0m \u001b[38;5;28;01mraise\u001b[39;00m \u001b[38;5;167;01mValueError\u001b[39;00m(msg_err)\n",
      "\u001b[0;31mValueError\u001b[0m: Input X contains NaN.\nSMOTE does not accept missing values encoded as NaN natively. For supervised learning, you might want to consider sklearn.ensemble.HistGradientBoostingClassifier and Regressor which accept missing values encoded as NaNs natively. Alternatively, it is possible to preprocess the data, for instance by using an imputer transformer in a pipeline or drop samples with missing values. See https://scikit-learn.org/stable/modules/impute.html You can find a list of all estimators that handle NaN values at the following page: https://scikit-learn.org/stable/modules/impute.html#estimators-that-handle-nan-values"
     ]
    }
   ],
   "source": [
    "import pandas as pd\n",
    "import numpy as np\n",
    "from sklearn.preprocessing import OneHotEncoder, StandardScaler\n",
    "from sklearn.decomposition import PCA\n",
    "from imblearn.over_sampling import SMOTE\n",
    "import matplotlib.pyplot as plt\n",
    "import seaborn as sns\n",
    "\n",
    "# 1. 결측치 처리된 데이터프레임 사용\n",
    "train_data = after_missing_data.copy()\n",
    "\n",
    "# 2. 수치형 변수의 결측치를 중앙값으로 대체 (이미 처리된 데이터셋을 다시 처리)\n",
    "numeric_cols = train_data.select_dtypes(include=['float64', 'int64']).columns\n",
    "for col in numeric_cols:\n",
    "    train_data[col].fillna(train_data[col].median(), inplace=True)\n",
    "\n",
    "# 3. 범주형 변수의 결측치를 최빈값으로 대체 (이미 처리된 데이터셋을 다시 처리)\n",
    "cat_cols = train_data.select_dtypes(include=['object']).columns\n",
    "for col in cat_cols:\n",
    "    train_data[col].fillna(train_data[col].mode()[0], inplace=True)\n",
    "\n",
    "# 4. 이상치 처리 (IQR 방법 사용)\n",
    "for col in numeric_cols:\n",
    "    Q1 = train_data[col].quantile(0.25)\n",
    "    Q3 = train_data[col].quantile(0.75)\n",
    "    IQR = Q3 - Q1\n",
    "    # IQR 범위를 벗어나는 데이터 제거\n",
    "    train_data = train_data[~((train_data[col] < (Q1 - 1.5 * IQR)) | (train_data[col] > (Q3 + 1.5 * IQR)))]\n",
    "\n",
    "# 5. 범주형 변수 원-핫 인코딩\n",
    "encoder = OneHotEncoder(sparse=False, drop='first')\n",
    "encoded_cat_data = encoder.fit_transform(train_data[cat_cols])\n",
    "encoded_cat_df = pd.DataFrame(encoded_cat_data, columns=encoder.get_feature_names_out(cat_cols))\n",
    "\n",
    "# 6. 수치형 데이터와 인코딩된 범주형 데이터 결합\n",
    "processed_data = pd.concat([train_data[numeric_cols], encoded_cat_df], axis=1)\n",
    "\n",
    "# 7. 데이터 표준화 (스케일링)\n",
    "scaler = StandardScaler()\n",
    "scaled_data = scaler.fit_transform(processed_data)\n",
    "\n",
    "# 8. 레이블 데이터 준비 (결측치 없는지 확인)\n",
    "y = train_data['target'].copy()  # 실제 레이블 컬럼 이름으로 바꿔야 함\n",
    "\n",
    "# 레이블 데이터의 결측치 확인 및 제거 (필요 시)\n",
    "if y.isnull().sum() > 0:\n",
    "    y.fillna(y.mode()[0], inplace=True)  # 최빈값으로 대체\n",
    "\n",
    "# 9. SMOTE 적용\n",
    "smote = SMOTE(random_state=42)\n",
    "X_resampled, y_resampled = smote.fit_resample(scaled_data, y)\n",
    "\n",
    "# 10. PCA 적용\n",
    "pca = PCA(n_components=20)\n",
    "pca_result = pca.fit_transform(X_resampled)\n",
    "\n",
    "# PCA 결과 시각화\n",
    "plt.figure(figsize=(8, 6))\n",
    "plt.scatter(pca_result[:, 0], pca_result[:, 1], c=y_resampled, alpha=0.3, cmap='viridis')\n",
    "plt.title('PCA of Processed Data with SMOTE')\n",
    "plt.xlabel('Principal Component 1')\n",
    "plt.ylabel('Principal Component 2')\n",
    "plt.colorbar(label='Target')\n",
    "plt.show()\n",
    "\n",
    "# PCA 성분별 중요도 확인\n",
    "explained_variances = pca.explained_variance_ratio_\n",
    "cumulative_variance = np.cumsum(explained_variances)\n",
    "print(f'Explained variance ratio: {explained_variances}')\n",
    "print(f'Cumulative explained variance: {cumulative_variance}')\n"
   ]
  },
  {
   "cell_type": "code",
   "execution_count": null,
   "id": "bd38bace",
   "metadata": {},
   "outputs": [],
   "source": [
    "#이상치 처리 (IQR 방법)\n",
    "for col in numeric_cols:\n",
    "    Q1 = train_data[col].quantile(0.25)\n",
    "    Q3 = train_data[col].quantile(0.75)\n",
    "    IQR = Q3 - Q1\n",
    "    train_data = train_data[~((train_data[col] < (Q1 - 1.5 * IQR)) | (train_data[col] > (Q3 + 1.5 * IQR)))]"
   ]
  },
  {
   "cell_type": "markdown",
   "id": "79ecfa9b",
   "metadata": {},
   "source": [
    "## 3. 모델 학습\n"
   ]
  },
  {
   "cell_type": "markdown",
   "id": "3caf257b",
   "metadata": {},
   "source": [
    "### 모델 정의\n"
   ]
  },
  {
   "cell_type": "code",
   "execution_count": null,
   "id": "e4509af0",
   "metadata": {},
   "outputs": [],
   "source": [
    "model = RandomForestClassifier(random_state=RANDOM_STATE)"
   ]
  },
  {
   "cell_type": "markdown",
   "id": "cacd5ed8",
   "metadata": {},
   "source": [
    "### 모델 학습\n"
   ]
  },
  {
   "cell_type": "code",
   "execution_count": null,
   "id": "766d1980",
   "metadata": {},
   "outputs": [],
   "source": [
    "features = []\n",
    "\n",
    "for col in df_train.columns:\n",
    "    try:\n",
    "        df_train[col] = df_train[col].astype(int)\n",
    "        features.append(col)\n",
    "    except:\n",
    "        continue\n",
    "\n",
    "train_x = df_train[features]\n",
    "train_y = df_train[\"target\"]\n",
    "\n",
    "model.fit(train_x, train_y)"
   ]
  },
  {
   "cell_type": "markdown",
   "id": "7adf8300",
   "metadata": {},
   "source": [
    "## 4. 제출하기\n"
   ]
  },
  {
   "cell_type": "markdown",
   "id": "9d0b6e17",
   "metadata": {},
   "source": [
    "### 테스트 데이터 예측\n"
   ]
  },
  {
   "cell_type": "markdown",
   "id": "cda16350",
   "metadata": {},
   "source": [
    "테스트 데이터 불러오기\n"
   ]
  },
  {
   "cell_type": "code",
   "execution_count": null,
   "id": "88e37a88",
   "metadata": {},
   "outputs": [],
   "source": [
    "test_data = pd.read_csv(os.path.join(ROOT_DIR, \"test.csv\"))"
   ]
  },
  {
   "cell_type": "code",
   "execution_count": null,
   "id": "a1eb2e59",
   "metadata": {},
   "outputs": [],
   "source": [
    "df_test_x = test_data[features]\n",
    "\n",
    "for col in df_test_x.columns:\n",
    "    try:\n",
    "        df_test_x.loc[:, col] = df_test_x[col].astype(int)\n",
    "    except:\n",
    "        continue"
   ]
  },
  {
   "cell_type": "code",
   "execution_count": null,
   "id": "d13f7a6e",
   "metadata": {},
   "outputs": [],
   "source": [
    "test_pred = model.predict(df_test_x)\n",
    "test_pred"
   ]
  },
  {
   "cell_type": "markdown",
   "id": "47f18e6a",
   "metadata": {},
   "source": [
    "### 제출 파일 작성\n"
   ]
  },
  {
   "cell_type": "code",
   "execution_count": null,
   "id": "3128a458",
   "metadata": {},
   "outputs": [],
   "source": [
    "# 제출 데이터 읽어오기 (df_test는 전처리된 데이터가 저장됨)\n",
    "df_sub = pd.read_csv(\"submission.csv\")\n",
    "df_sub[\"target\"] = test_pred\n",
    "\n",
    "# 제출 파일 저장\n",
    "df_sub.to_csv(\"submission.csv\", index=False)"
   ]
  },
  {
   "cell_type": "markdown",
   "id": "ec7867ce",
   "metadata": {},
   "source": [
    "**우측 상단의 제출 버튼을 클릭해 결과를 확인하세요**\n"
   ]
  },
  {
   "cell_type": "code",
   "execution_count": null,
   "id": "b37c7ddb",
   "metadata": {},
   "outputs": [],
   "source": []
  }
 ],
 "metadata": {
  "kernelspec": {
   "display_name": "Python 3 (ipykernel)",
   "language": "python",
   "name": "python3"
  },
  "language_info": {
   "codemirror_mode": {
    "name": "ipython",
    "version": 3
   },
   "file_extension": ".py",
   "mimetype": "text/x-python",
   "name": "python",
   "nbconvert_exporter": "python",
   "pygments_lexer": "ipython3",
   "version": "3.10.13"
  }
 },
 "nbformat": 4,
 "nbformat_minor": 5
}
