{
 "cells": [
  {
   "cell_type": "code",
   "execution_count": 35,
   "metadata": {},
   "outputs": [],
   "source": [
    "import os\n",
    "import numpy as np\n",
    "import pandas as pd\n",
    "import joblib\n",
    "\n",
    "from sklearn.ensemble import RandomForestClassifier, AdaBoostClassifier\n",
    "from xgboost import XGBClassifier\n",
    "from lightgbm import LGBMClassifier\n",
    "\n",
    "from sklearn.metrics import (\n",
    "    accuracy_score,\n",
    "    classification_report,\n",
    "    roc_auc_score,\n",
    "    confusion_matrix\n",
    ")\n",
    "from sklearn.model_selection import (\n",
    "    train_test_split,\n",
    "    cross_val_score,\n",
    "    cross_val_predict,\n",
    "    KFold,\n",
    "    GridSearchCV,\n",
    ")\n",
    "from sklearn.feature_selection import SelectKBest, f_classif\n",
    "from imblearn.over_sampling import SMOTE, SMOTENC, ADASYN"
   ]
  },
  {
   "cell_type": "code",
   "execution_count": 36,
   "metadata": {},
   "outputs": [],
   "source": [
    "def read_file(file_path):\n",
    "    return pd.read_csv(file_path)"
   ]
  },
  {
   "cell_type": "code",
   "execution_count": 37,
   "metadata": {},
   "outputs": [],
   "source": [
    "def data_split(df, test_size = None):\n",
    "    X = df.drop('target', axis = 1)\n",
    "    y = df['target']\n",
    "\n",
    "    X_train, X_test, y_train, y_test = train_test_split(X, y, test_size = test_size, random_state=42)\n",
    "\n",
    "    return X_train, X_test, y_train, y_test"
   ]
  },
  {
   "cell_type": "code",
   "execution_count": 38,
   "metadata": {},
   "outputs": [],
   "source": [
    "def data_augmentation(X_train, y_train):\n",
    "    adasyn = ADASYN(random_state=42)\n",
    "    X_train_resampled, y_train_resampled = adasyn.fit_resample(X_train, y_train)\n",
    "\n",
    "    return X_train_resampled, y_train_resampled"
   ]
  },
  {
   "cell_type": "code",
   "execution_count": 39,
   "metadata": {},
   "outputs": [],
   "source": [
    "def best_features(X_train, X_val, y_train):\n",
    "    k_best_features = 20\n",
    "    selector = SelectKBest(score_func=f_classif, k=k_best_features)\n",
    "    X_train_selected = selector.fit_transform(X_train, y_train)\n",
    "    X_val_selected = selector.transform(X_val)\n",
    "\n",
    "    return X_train_selected, X_val_selected"
   ]
  },
  {
   "cell_type": "code",
   "execution_count": 40,
   "metadata": {},
   "outputs": [],
   "source": [
    "def random_forest_learning_and_evaluation(x_train, y_train, x_val, y_val, param_grid):\n",
    "    if param_grid:\n",
    "        model = RandomForestClassifier(\n",
    "            n_estimators=param_grid['n_estimators'], \n",
    "            max_depth=param_grid['max_depth'],\n",
    "            min_samples_leaf=param_grid['min_samples_leaf'],\n",
    "            min_samples_split=param_grid['min_samples_split'],\n",
    "            random_state = 42\n",
    "        )\n",
    "    else:\n",
    "        model = RandomForestClassifier(random_state=42)\n",
    "        \n",
    "    model.fit(x_train, y_train)\n",
    "\n",
    "    y_pred = model.predict(x_val)\n",
    "    print('Classification Report:\\n', classification_report(y_val, y_pred))\n",
    "    print('ROC-AUC Score:', roc_auc_score(y_val, y_pred))\n",
    "    print('Confusion Matrix:\\n', confusion_matrix(y_val, y_pred))\n",
    "\n",
    "    return model"
   ]
  },
  {
   "cell_type": "code",
   "execution_count": 41,
   "metadata": {},
   "outputs": [],
   "source": [
    "def parameter_tuning(x_train, y_train):\n",
    "    param_grid = {\n",
    "        'n_estimators': [10, 100],\n",
    "        'max_depth': [6, 8, 10, 12],\n",
    "        'min_samples_leaf': [8, 12, 18],\n",
    "        'min_samples_split': [8, 16, 20],\n",
    "    }\n",
    "\n",
    "    grid_search = GridSearchCV(RandomForestClassifier(random_state = 42), param_grid, cv = 3, scoring = 'roc_auc')\n",
    "    grid_search.fit(x_train, y_train)\n",
    "\n",
    "    best_params = grid_search.best_params_\n",
    "    print('Best Hyperparameters:', best_params)\n",
    "    \n",
    "    return best_params"
   ]
  },
  {
   "cell_type": "code",
   "execution_count": 42,
   "metadata": {},
   "outputs": [],
   "source": [
    "PATH = r'D:\\LGAimers\\Hackerton\\data\\preprocessed_train_data_StandardScaler.csv'\n",
    "# PATH = r'D:\\LGAimers\\Hackerton\\data\\preprocessed_train_data_RobustScaler.csv'\n",
    "# PATH = r'D:\\LGAimers\\Hackerton\\data\\preprocessed_train_data_Normalizer.csv'\n",
    "df = read_file(PATH)"
   ]
  },
  {
   "cell_type": "code",
   "execution_count": null,
   "metadata": {},
   "outputs": [],
   "source": [
    "def xgboost_learning_and_evaluation(x_train, y_train, x_val, y_val, param_grid):\n",
    "    if param_grid:\n",
    "        model = XGBClassifier(\n",
    "            n_estimators=param_grid['n_estimators'], \n",
    "            max_depth=param_grid['max_depth'],\n",
    "            learning_rate=param_grid['learning_rate'],\n",
    "            subsample=param_grid['subsample'],\n",
    "            colsample_bytree=param_grid['colsample_bytree'],\n",
    "            random_state = 42,\n",
    "            use_label_encoder=False,\n",
    "            eval_metric='logloss',\n",
    "        )\n",
    "    else:\n",
    "        model = XGBClassifier(random_state=42, use_label_encoder=False, eval_metric='logloss',)\n",
    "        \n",
    "    model.fit(x_train, y_train)\n",
    "\n",
    "    y_pred = model.predict(x_val)\n",
    "    print('Classification Report:\\n', classification_report(y_val, y_pred))\n",
    "    print('ROC-AUC Score:', roc_auc_score(y_val, y_pred))\n",
    "    print('Confusion Matrix:\\n', confusion_matrix(y_val, y_pred))\n",
    "\n",
    "    return model"
   ]
  },
  {
   "cell_type": "code",
   "execution_count": null,
   "metadata": {},
   "outputs": [],
   "source": [
    "def xgboost_parameter_tuning(x_train, y_train):\n",
    "    param_grid = {\n",
    "        'n_estimators': [50, 100, 150],\n",
    "        'max_depth': [3, 6, 9],\n",
    "        'learning_rate': [0.01, 0.1, 0.2],\n",
    "        'subsample': [0.6, 0.8, 1.0],\n",
    "        'colsample_bytree': [0.6, 0.8, 1.0]\n",
    "    }\n",
    "\n",
    "    grid_search = GridSearchCV(XGBClassifier(random_state = 42), param_grid, cv = 3, scoring = 'roc_auc')\n",
    "    grid_search.fit(x_train, y_train)\n",
    "\n",
    "    best_params = grid_search.best_params_\n",
    "    print('Best Hyperparameters:', best_params)\n",
    "    \n",
    "    return best_params"
   ]
  },
  {
   "cell_type": "code",
   "execution_count": 43,
   "metadata": {},
   "outputs": [],
   "source": [
    "X_train, X_val, y_train, y_val = data_split(df, test_size = 0.3)"
   ]
  },
  {
   "cell_type": "code",
   "execution_count": 44,
   "metadata": {},
   "outputs": [
    {
     "name": "stdout",
     "output_type": "stream",
     "text": [
      "X_train.shape = (28354, 126)\n",
      "X_val.shape = (12152, 126)\n",
      "y_train.shape = (28354,)\n",
      "y_val.shape = (12152,)\n"
     ]
    }
   ],
   "source": [
    "print(f'X_train.shape = {X_train.shape}')\n",
    "print(f'X_val.shape = {X_val.shape}')\n",
    "print(f'y_train.shape = {y_train.shape}')\n",
    "print(f'y_val.shape = {y_val.shape}')"
   ]
  },
  {
   "cell_type": "code",
   "execution_count": 45,
   "metadata": {},
   "outputs": [
    {
     "data": {
      "text/plain": [
       "count    28354.000000\n",
       "mean         0.940643\n",
       "std          0.236295\n",
       "min          0.000000\n",
       "25%          1.000000\n",
       "50%          1.000000\n",
       "75%          1.000000\n",
       "max          1.000000\n",
       "Name: target, dtype: float64"
      ]
     },
     "execution_count": 45,
     "metadata": {},
     "output_type": "execute_result"
    }
   ],
   "source": [
    "y_train.describe()"
   ]
  },
  {
   "cell_type": "code",
   "execution_count": 46,
   "metadata": {},
   "outputs": [],
   "source": [
    "X_train_selected, X_val_selected = best_features(X_train=X_train, X_val=X_val, y_train=y_train)\n"
   ]
  },
  {
   "cell_type": "code",
   "execution_count": 47,
   "metadata": {},
   "outputs": [],
   "source": [
    "X_train_resampled, y_train_resampled = data_augmentation(X_train=X_train_selected, y_train=y_train)"
   ]
  },
  {
   "cell_type": "code",
   "execution_count": 48,
   "metadata": {},
   "outputs": [
    {
     "name": "stdout",
     "output_type": "stream",
     "text": [
      "X_train_resampled.shape = (53469, 20)\n",
      "y_train_resampled.shape = (53469,)\n"
     ]
    }
   ],
   "source": [
    "print(f'X_train_resampled.shape = {X_train_resampled.shape}')\n",
    "print(f'y_train_resampled.shape = {y_train_resampled.shape}')"
   ]
  },
  {
   "cell_type": "code",
   "execution_count": 49,
   "metadata": {},
   "outputs": [
    {
     "name": "stdout",
     "output_type": "stream",
     "text": [
      "Classification Report:\n",
      "               precision    recall  f1-score   support\n",
      "\n",
      "           0       0.10      0.33      0.15       667\n",
      "           1       0.96      0.83      0.89     11485\n",
      "\n",
      "    accuracy                           0.80     12152\n",
      "   macro avg       0.53      0.58      0.52     12152\n",
      "weighted avg       0.91      0.80      0.85     12152\n",
      "\n",
      "ROC-AUC Score: 0.5786841450846192\n",
      "Confusion Matrix:\n",
      " [[ 221  446]\n",
      " [1998 9487]]\n"
     ]
    }
   ],
   "source": [
    "non_grid_search_model = random_forest_learning_and_evaluation(\n",
    "    x_train=X_train_resampled, \n",
    "    y_train=y_train_resampled, \n",
    "    x_val=X_val_selected, \n",
    "    y_val=y_val, \n",
    "    param_grid=None\n",
    ")"
   ]
  },
  {
   "cell_type": "code",
   "execution_count": 50,
   "metadata": {},
   "outputs": [
    {
     "name": "stdout",
     "output_type": "stream",
     "text": [
      "Best Hyperparameters: {'max_depth': 12, 'min_samples_leaf': 8, 'min_samples_split': 8, 'n_estimators': 100}\n"
     ]
    }
   ],
   "source": [
    "best_params = parameter_tuning(X_train_resampled, y_train_resampled)"
   ]
  },
  {
   "cell_type": "code",
   "execution_count": 51,
   "metadata": {},
   "outputs": [
    {
     "name": "stdout",
     "output_type": "stream",
     "text": [
      "Classification Report:\n",
      "               precision    recall  f1-score   support\n",
      "\n",
      "           0       0.10      0.42      0.16       667\n",
      "           1       0.96      0.78      0.86     11485\n",
      "\n",
      "    accuracy                           0.76     12152\n",
      "   macro avg       0.53      0.60      0.51     12152\n",
      "weighted avg       0.91      0.76      0.82     12152\n",
      "\n",
      "ROC-AUC Score: 0.5987745569966432\n",
      "Confusion Matrix:\n",
      " [[ 278  389]\n",
      " [2518 8967]]\n"
     ]
    }
   ],
   "source": [
    "grid_search_model = random_forest_learning_and_evaluation(\n",
    "    x_train=X_train_resampled, \n",
    "    y_train=y_train_resampled, \n",
    "    x_val=X_val_selected, \n",
    "    y_val=y_val, \n",
    "    param_grid=best_params\n",
    ")"
   ]
  },
  {
   "cell_type": "code",
   "execution_count": null,
   "metadata": {},
   "outputs": [],
   "source": []
  }
 ],
 "metadata": {
  "kernelspec": {
   "display_name": ".venv",
   "language": "python",
   "name": "python3"
  },
  "language_info": {
   "codemirror_mode": {
    "name": "ipython",
    "version": 3
   },
   "file_extension": ".py",
   "mimetype": "text/x-python",
   "name": "python",
   "nbconvert_exporter": "python",
   "pygments_lexer": "ipython3",
   "version": "3.12.4"
  }
 },
 "nbformat": 4,
 "nbformat_minor": 2
}
